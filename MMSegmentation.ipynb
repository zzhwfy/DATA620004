{
  "cells": [
    {
      "cell_type": "markdown",
      "metadata": {
        "id": "FVmnaxFJvsb8"
      },
      "source": [
        "# MMSegmentation Tutorial\n",
        "Welcome to MMSegmentation! \n",
        "\n",
        "In this tutorial, we demo\n",
        "* How to do inference with MMSeg trained weight\n",
        "* How to train on your own dataset and visualize the results. "
      ]
    },
    {
      "cell_type": "markdown",
      "metadata": {
        "id": "QS8YHrEhbpas"
      },
      "source": [
        "## Install MMSegmentation\n",
        "This step may take several minutes. \n",
        "\n",
        "We use PyTorch 1.10 and CUDA 11.1 for this tutorial. You may install other versions by change the version number in pip install command. "
      ]
    },
    {
      "cell_type": "code",
      "execution_count": null,
      "metadata": {
        "colab": {
          "base_uri": "https://localhost:8080/"
        },
        "id": "UWyLrLYaNEaL",
        "outputId": "01c1ba6a-a139-4941-d6df-74f0adb4543a"
      },
      "outputs": [],
      "source": [
        "# Check nvcc version\n",
        "!nvcc -V\n",
        "# Check GCC version\n",
        "!gcc --version"
      ]
    },
    {
      "cell_type": "code",
      "execution_count": null,
      "metadata": {
        "colab": {
          "base_uri": "https://localhost:8080/"
        },
        "id": "Ki3WUBjKbutg",
        "outputId": "9c979bc3-3a9a-4a1a-926b-6bedbc12f8bb"
      },
      "outputs": [],
      "source": [
        "# Install PyTorch\n",
        "!conda install pytorch=1.10.0 torchvision cudatoolkit=11.1 -c pytorch\n",
        "# Install MMCV\n",
        "!pip install mmcv-full -f https://download.openmmlab.com/mmcv/dist/cu111/torch1.10/index.html"
      ]
    },
    {
      "cell_type": "code",
      "execution_count": null,
      "metadata": {
        "colab": {
          "base_uri": "https://localhost:8080/"
        },
        "id": "nR-hHRvbNJJZ",
        "outputId": "d3d82653-e8d4-4d98-ee0b-150a5c135f11"
      },
      "outputs": [],
      "source": [
        "!rm -rf mmsegmentation\n",
        "!git clone https://github.com/open-mmlab/mmsegmentation.git \n",
        "%cd mmsegmentation\n",
        "!pip install -e ."
      ]
    },
    {
      "cell_type": "code",
      "execution_count": null,
      "metadata": {
        "colab": {
          "base_uri": "https://localhost:8080/"
        },
        "id": "mAE_h7XhPT7d",
        "outputId": "7ee94631-01bf-4c85-9bbb-85df1826b3dc"
      },
      "outputs": [],
      "source": [
        "# Check Pytorch installation\n",
        "import torch, torchvision\n",
        "print(torch.__version__, torch.cuda.is_available())\n",
        "\n",
        "# Check MMSegmentation installation\n",
        "import mmseg\n",
        "print(mmseg.__version__)"
      ]
    },
    {
      "cell_type": "markdown",
      "metadata": {
        "id": "eUcuC3dUv32I"
      },
      "source": [
        "## Run Inference with MMSeg trained weight"
      ]
    },
    {
      "cell_type": "code",
      "execution_count": null,
      "metadata": {
        "colab": {
          "base_uri": "https://localhost:8080/"
        },
        "id": "2hd41IGaiNet",
        "outputId": "c79791b6-2ea1-460b-8742-bf4a2ae8f482"
      },
      "outputs": [],
      "source": [
        "!mkdir checkpoints\n",
        "!wget https://download.openmmlab.com/mmsegmentation/v0.5/pspnet/pspnet_r50-d8_512x1024_40k_cityscapes/pspnet_r50-d8_512x1024_40k_cityscapes_20200605_003338-2966598c.pth -P checkpoints"
      ]
    },
    {
      "cell_type": "code",
      "execution_count": null,
      "metadata": {
        "id": "H8Fxg8i-wHJE"
      },
      "outputs": [],
      "source": [
        "from mmseg.apis import inference_segmentor, init_segmentor, show_result_pyplot\n",
        "from mmseg.core.evaluation import get_palette"
      ]
    },
    {
      "cell_type": "code",
      "execution_count": null,
      "metadata": {
        "id": "umk8sJ0Xuace"
      },
      "outputs": [],
      "source": [
        "config_file = 'configs/pspnet/pspnet_r50-d8_512x1024_40k_cityscapes.py'\n",
        "checkpoint_file = 'checkpoints/pspnet_r50-d8_512x1024_40k_cityscapes_20200605_003338-2966598c.pth'"
      ]
    },
    {
      "cell_type": "code",
      "execution_count": null,
      "metadata": {
        "colab": {
          "base_uri": "https://localhost:8080/"
        },
        "id": "nWlQFuTgudxu",
        "outputId": "c2806775-57c4-40e0-b729-6158e5418dbf"
      },
      "outputs": [],
      "source": [
        "# build the model from a config file and a checkpoint file\n",
        "model = init_segmentor(config_file, checkpoint_file, device='cuda:0')"
      ]
    },
    {
      "cell_type": "code",
      "execution_count": null,
      "metadata": {
        "id": "izFv6pSRujk9"
      },
      "outputs": [],
      "source": [
        "# test a single image\n",
        "img = 'demo/demo.png'\n",
        "result = inference_segmentor(model, img)"
      ]
    },
    {
      "cell_type": "code",
      "execution_count": null,
      "metadata": {
        "colab": {
          "base_uri": "https://localhost:8080/",
          "height": 396
        },
        "id": "bDcs9udgunQK",
        "outputId": "dcdb4ae3-cbc7-418b-8686-4760455cc319"
      },
      "outputs": [],
      "source": [
        "# show the results\n",
        "show_result_pyplot(model, img, result, get_palette('cityscapes'), out_file = \"./demo_infered.png\")"
      ]
    },
    {
      "cell_type": "code",
      "execution_count": null,
      "metadata": {
        "colab": {
          "base_uri": "https://localhost:8080/"
        },
        "id": "k8cSA_qm4ErM",
        "outputId": "a336a207-6055-4939-925a-4c5e63d7c091"
      },
      "outputs": [],
      "source": [
        "show_result_pyplot"
      ]
    },
    {
      "cell_type": "code",
      "execution_count": null,
      "metadata": {
        "colab": {
          "base_uri": "https://localhost:8080/"
        },
        "id": "heu8i-0H4voI",
        "outputId": "41f67dd6-4f68-40d0-8ae0-e2adf87fcfa6"
      },
      "outputs": [],
      "source": [
        "!pip install opencv-python"
      ]
    },
    {
      "cell_type": "code",
      "execution_count": null,
      "metadata": {
        "id": "xl7NJkjp5yZh"
      },
      "outputs": [],
      "source": [
        "# Create a VideoCapture object and read from input file\n",
        "# If the input is the camera, pass 0 instead of the video file name\n",
        "vidcap = cv2.VideoCapture('/content/North American Car Driving.mp4')"
      ]
    },
    {
      "cell_type": "code",
      "execution_count": null,
      "metadata": {
        "colab": {
          "base_uri": "https://localhost:8080/"
        },
        "id": "zNHO-tYL517m",
        "outputId": "d4835dee-d20e-4708-f367-33045fc68a1a"
      },
      "outputs": [],
      "source": [
        "vidcap.isOpened()"
      ]
    },
    {
      "cell_type": "code",
      "execution_count": null,
      "metadata": {
        "id": "DxSj9KzM8wZP"
      },
      "outputs": [],
      "source": [
        "success,image = vidcap.read()\n",
        "count = 0"
      ]
    },
    {
      "cell_type": "code",
      "execution_count": null,
      "metadata": {
        "colab": {
          "base_uri": "https://localhost:8080/"
        },
        "id": "d-Ts2uaMBST_",
        "outputId": "5bc9e42d-0579-4913-c579-941b2af358da"
      },
      "outputs": [],
      "source": [
        "image.shape"
      ]
    },
    {
      "cell_type": "code",
      "execution_count": null,
      "metadata": {
        "id": "lifMbXQI9FMd"
      },
      "outputs": [],
      "source": [
        "!mkdir frames"
      ]
    },
    {
      "cell_type": "code",
      "execution_count": null,
      "metadata": {
        "colab": {
          "base_uri": "https://localhost:8080/"
        },
        "id": "QVJirkjc83mA",
        "outputId": "e47ccc03-c1c8-479b-95b4-21d9266f61a1"
      },
      "outputs": [],
      "source": [
        "while success:\n",
        "  cv2.imwrite(\"./frames/frame%d.jpg\" % count, image)     # save frame as JPEG file      \n",
        "  success,image = vidcap.read()\n",
        "  print('Read a new frame: ', success)\n",
        "  count += 1\n",
        "  if count >= 600:\n",
        "    break"
      ]
    },
    {
      "cell_type": "code",
      "execution_count": null,
      "metadata": {
        "id": "m6KGDTII9srd"
      },
      "outputs": [],
      "source": [
        "!mkdir inferred_frame"
      ]
    },
    {
      "cell_type": "code",
      "execution_count": null,
      "metadata": {
        "colab": {
          "base_uri": "https://localhost:8080/",
          "height": 1000
        },
        "id": "mxmisVjx9NJ9",
        "outputId": "edc7a4a9-a171-4f7d-d858-d06367ded212"
      },
      "outputs": [],
      "source": [
        "# test a single image\n",
        "for count in range(600):\n",
        "  img = \"./frames/frame%d.jpg\" % count\n",
        "  result = inference_segmentor(model, img)\n",
        "  show_result_pyplot(model, img, result, get_palette('cityscapes'), out_file = \"./inferred_frame/frame%d.jpg\" % count)"
      ]
    },
    {
      "cell_type": "code",
      "execution_count": null,
      "metadata": {
        "id": "P-ISfeBFBoc7"
      },
      "outputs": [],
      "source": [
        "fourcc = cv2.VideoWriter_fourcc('M', 'J', 'P', 'G')\n",
        "\n",
        "out = cv2.VideoWriter('video.avi', fourcc, 25, (854, 480), isColor=True)\n",
        "\n",
        "for count in range(600):\n",
        "  img = \"./frames/frame%d.jpg\" % count\n",
        "  img = cv2.imread(img)\n",
        "  out.write(img)\n",
        "    \n",
        "out.release()"
      ]
    },
    {
      "cell_type": "code",
      "execution_count": null,
      "metadata": {
        "id": "Z02xETb8Ajz-"
      },
      "outputs": [],
      "source": [
        "fourcc = cv2.VideoWriter_fourcc('M', 'J', 'P', 'G')\n",
        "\n",
        "out = cv2.VideoWriter('video_inferred.avi', fourcc, 25, (854, 480), isColor=True)\n",
        "\n",
        "for count in range(600):\n",
        "  img = \"./inferred_frame/frame%d.jpg\" % count\n",
        "  img = cv2.imread(img)\n",
        "  out.write(img)\n",
        "    \n",
        "out.release()"
      ]
    }
  ],
  "metadata": {
    "accelerator": "GPU",
    "colab": {
      "collapsed_sections": [],
      "name": "“MMSegmentation Tutorial.ipynb”的副本",
      "provenance": []
    },
    "kernelspec": {
      "display_name": "Python 3",
      "language": "python",
      "name": "python3"
    },
    "language_info": {
      "codemirror_mode": {
        "name": "ipython",
        "version": 3
      },
      "file_extension": ".py",
      "mimetype": "text/x-python",
      "name": "python",
      "nbconvert_exporter": "python",
      "pygments_lexer": "ipython3",
      "version": "3.7.0"
    },
    "pycharm": {
      "stem_cell": {
        "cell_type": "raw",
        "metadata": {
          "collapsed": false
        },
        "source": []
      }
    }
  },
  "nbformat": 4,
  "nbformat_minor": 0
}
